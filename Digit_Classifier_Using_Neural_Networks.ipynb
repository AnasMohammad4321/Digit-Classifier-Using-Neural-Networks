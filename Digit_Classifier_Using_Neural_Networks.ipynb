{
  "cells": [
    {
      "cell_type": "markdown",
      "source": [
        "**Importing Dependencies**"
      ],
      "metadata": {
        "id": "r5dLFd3bKMnx"
      }
    },
    {
      "cell_type": "code",
      "execution_count": 183,
      "metadata": {
        "id": "x14To55PvK5a"
      },
      "outputs": [],
      "source": [
        "import tensorflow as tf\n",
        "from tensorflow import keras\n",
        "import matplotlib.pyplot as plt\n",
        "%matplotlib inline\n",
        "import seaborn as sn\n",
        "import numpy as np"
      ]
    },
    {
      "cell_type": "markdown",
      "source": [
        "**Loading training and testing data**"
      ],
      "metadata": {
        "id": "sNPkzW2RKVPk"
      }
    },
    {
      "cell_type": "code",
      "execution_count": 184,
      "metadata": {
        "id": "rcLn9iljvUL1"
      },
      "outputs": [],
      "source": [
        "(X_train, y_train) , (X_test, y_test) = keras.datasets.mnist.load_data()"
      ]
    },
    {
      "cell_type": "code",
      "execution_count": 185,
      "metadata": {
        "colab": {
          "base_uri": "https://localhost:8080/"
        },
        "id": "Y29sLlK_vlO5",
        "outputId": "9857d1c2-7b81-4227-94d4-f7c4729a14a7"
      },
      "outputs": [
        {
          "output_type": "stream",
          "name": "stdout",
          "text": [
            "(60000, 28, 28)\n",
            "(60000,)\n"
          ]
        }
      ],
      "source": [
        "print(X_train.shape)\n",
        "print(y_train.shape)\n",
        "#training data 60000 images of 28*28 resolution"
      ]
    },
    {
      "cell_type": "code",
      "execution_count": 186,
      "metadata": {
        "colab": {
          "base_uri": "https://localhost:8080/"
        },
        "id": "2E-Vz1thwYEa",
        "outputId": "c8fe0062-6e72-4d70-e8ef-c0bd052dcbaa"
      },
      "outputs": [
        {
          "output_type": "stream",
          "name": "stdout",
          "text": [
            "(10000, 28, 28)\n",
            "(10000,)\n"
          ]
        }
      ],
      "source": [
        "print(X_test.shape)\n",
        "print(y_test.shape)\n",
        "#testing data 60000 images of 28*28 resolution"
      ]
    },
    {
      "cell_type": "code",
      "execution_count": 187,
      "metadata": {
        "colab": {
          "base_uri": "https://localhost:8080/",
          "height": 275
        },
        "id": "APyCdZLowz2F",
        "outputId": "ef895b7c-0520-4317-90a7-58431d8ae8e1"
      },
      "outputs": [
        {
          "output_type": "display_data",
          "data": {
            "text/plain": [
              "<Figure size 288x288 with 1 Axes>"
            ],
            "image/png": "[encoded data removed]"
          },
          "metadata": {
            "needs_background": "light"
          }
        }
      ],
      "source": [
        "plt.matshow(X_train[7])\n",
        "plt.show()\n",
        "#printing the image at 7th index"
      ]
    },
    {
      "cell_type": "code",
      "execution_count": 188,
      "metadata": {
        "colab": {
          "base_uri": "https://localhost:8080/"
        },
        "id": "sPPhtGw_xEgA",
        "outputId": "6da8a24a-e88b-46ec-b0da-aa4a9ca98101"
      },
      "outputs": [
        {
          "output_type": "stream",
          "name": "stdout",
          "text": [
            "3\n"
          ]
        }
      ],
      "source": [
        "print(y_train[7])\n",
        "#printing the label of 7th index"
      ]
    },
    {
      "cell_type": "markdown",
      "source": [
        "**Scaling the data to make it fit for learning**"
      ],
      "metadata": {
        "id": "9p3LW5D3K6R4"
      }
    },
    {
      "cell_type": "code",
      "execution_count": 189,
      "metadata": {
        "id": "TAPHE08rwcZ4"
      },
      "outputs": [],
      "source": [
        "X_train_scaled = X_train / 255\n",
        "X_test_scaled = X_test / 255"
      ]
    },
    {
      "cell_type": "code",
      "execution_count": 190,
      "metadata": {
        "id": "pN-mv_gnx8hu"
      },
      "outputs": [],
      "source": [
        "total_neurons = X_train.shape[1] * X_train.shape[2] #total neurons at input layers would be 28*28 = 784\n",
        "\n",
        "#flattening the data into a 2D array to mimic the neural behavior\n",
        "X_train_flattened = X_train_scaled.reshape(len(X_train), total_neurons)\n",
        "X_test_flattened = X_test_scaled.reshape(len(X_test), total_neurons)"
      ]
    },
    {
      "cell_type": "code",
      "execution_count": 191,
      "metadata": {
        "colab": {
          "base_uri": "https://localhost:8080/"
        },
        "id": "n0QQ-ezyyY1_",
        "outputId": "d7b6b7ac-af8a-4ebb-ae92-e16606b0d1fc"
      },
      "outputs": [
        {
          "output_type": "execute_result",
          "data": {
            "text/plain": [
              "(60000, 784)"
            ]
          },
          "metadata": {},
          "execution_count": 191
        }
      ],
      "source": [
        "X_train_flattened.shape #flattened data now has 2 dimensions only. \n",
        "#x is number of images and y is the total number of pixals in each image."
      ]
    },
    {
      "cell_type": "markdown",
      "source": [
        "**Perceptron (Simplest neural network with only one layer)**"
      ],
      "metadata": {
        "id": "tepEBBoXM1r1"
      }
    },
    {
      "cell_type": "code",
      "execution_count": 192,
      "metadata": {
        "colab": {
          "base_uri": "https://localhost:8080/"
        },
        "id": "upHu8mSaylBo",
        "outputId": "8d9f6680-fe57-485b-ff5d-aee78b19c6c8"
      },
      "outputs": [
        {
          "output_type": "stream",
          "name": "stdout",
          "text": [
            "Epoch 1/10\n",
            "1875/1875 [==============================] - 2s 1ms/step - loss: 0.4732 - accuracy: 0.8761\n",
            "Epoch 2/10\n",
            "1875/1875 [==============================] - 2s 1ms/step - loss: 0.3042 - accuracy: 0.9146\n",
            "Epoch 3/10\n",
            "1875/1875 [==============================] - 2s 1ms/step - loss: 0.2830 - accuracy: 0.9211\n",
            "Epoch 4/10\n",
            "1875/1875 [==============================] - 2s 1ms/step - loss: 0.2730 - accuracy: 0.9241\n",
            "Epoch 5/10\n",
            "1875/1875 [==============================] - 2s 1ms/step - loss: 0.2670 - accuracy: 0.9260\n",
            "Epoch 6/10\n",
            "1875/1875 [==============================] - 2s 1ms/step - loss: 0.2615 - accuracy: 0.9275\n",
            "Epoch 7/10\n",
            "1875/1875 [==============================] - 2s 1ms/step - loss: 0.2586 - accuracy: 0.9281\n",
            "Epoch 8/10\n",
            "1875/1875 [==============================] - 2s 1ms/step - loss: 0.2559 - accuracy: 0.9289\n",
            "Epoch 9/10\n",
            "1875/1875 [==============================] - 2s 1ms/step - loss: 0.2530 - accuracy: 0.9298\n",
            "Epoch 10/10\n",
            "1875/1875 [==============================] - 2s 1ms/step - loss: 0.2512 - accuracy: 0.9308\n"
          ]
        },
        {
          "output_type": "execute_result",
          "data": {
            "text/plain": [
              "<keras.callbacks.History at 0x7f341cdcfd10>"
            ]
          },
          "metadata": {},
          "execution_count": 192
        }
      ],
      "source": [
        "no_output_neurons = 10 #since we have to classify between 0-9, we'll have 10 neurons on the output layer.\n",
        "model = keras.Sequential([\n",
        "    keras.layers.Dense(no_output_neurons, input_shape=(784,), activation='sigmoid')\n",
        "])\n",
        "\n",
        "model.compile(optimizer='adam',\n",
        "              loss='sparse_categorical_crossentropy',\n",
        "              metrics=['accuracy'])\n",
        "iterations = 10\n",
        "model.fit(X_train_flattened, y_train, epochs=iterations)"
      ]
    },
    {
      "cell_type": "code",
      "execution_count": 193,
      "metadata": {
        "colab": {
          "base_uri": "https://localhost:8080/"
        },
        "id": "9LuxNTXOzmcP",
        "outputId": "b660f3c8-6170-4265-d1d7-40108dc2a580"
      },
      "outputs": [
        {
          "output_type": "stream",
          "name": "stdout",
          "text": [
            "313/313 [==============================] - 0s 1ms/step - loss: 0.2688 - accuracy: 0.9255\n"
          ]
        },
        {
          "output_type": "execute_result",
          "data": {
            "text/plain": [
              "[0.2687673270702362, 0.9254999756813049]"
            ]
          },
          "metadata": {},
          "execution_count": 193
        }
      ],
      "source": [
        "model.evaluate(X_test_flattened,y_test)"
      ]
    },
    {
      "cell_type": "markdown",
      "source": [
        "**Accuracy: 0.9255**"
      ],
      "metadata": {
        "id": "a-vGs5c8M_WV"
      }
    },
    {
      "cell_type": "code",
      "execution_count": 194,
      "metadata": {
        "id": "4rqzE073zvj2"
      },
      "outputs": [],
      "source": [
        "output_neurons = model.predict(X_test_flattened)"
      ]
    },
    {
      "cell_type": "markdown",
      "source": [
        "**Classifier function to make prediction based on testing data**"
      ],
      "metadata": {
        "id": "Y5I_yyFINEri"
      }
    },
    {
      "cell_type": "code",
      "execution_count": 195,
      "metadata": {
        "id": "IJuCpHyV0tee"
      },
      "outputs": [],
      "source": [
        "def classifier(index):\n",
        "  print(\"Image at index\", index, \"is shown below:\")\n",
        "  plt.matshow(X_test[index])\n",
        "  plt.show()\n",
        "  return np.argmax(output_neurons[index])"
      ]
    },
    {
      "cell_type": "code",
      "execution_count": 196,
      "metadata": {
        "colab": {
          "base_uri": "https://localhost:8080/",
          "height": 362
        },
        "id": "Qvj2zS312fnZ",
        "outputId": "68041b1e-a411-4c77-bec8-e2bc2fe1e6ad"
      },
      "outputs": [
        {
          "output_type": "stream",
          "name": "stdout",
          "text": [
            "Please enter an index: 30\n",
            "Image at index 30 is shown below:\n"
          ]
        },
        {
          "output_type": "display_data",
          "data": {
            "text/plain": [
              "<Figure size 288x288 with 1 Axes>"
            ],
            "image/png": "[encoded data removed]"
          },
          "metadata": {
            "needs_background": "light"
          }
        },
        {
          "output_type": "stream",
          "name": "stdout",
          "text": [
            "\n",
            "\n",
            "Neural Network prediction: 3\n"
          ]
        }
      ],
      "source": [
        "a = int(input(\"Please enter an index: \"))\n",
        "result = classifier(a)\n",
        "print(\"\\n\\nNeural Network prediction:\", result)"
      ]
    },
    {
      "cell_type": "code",
      "execution_count": 197,
      "metadata": {
        "id": "HnAbY8RG8b8g"
      },
      "outputs": [],
      "source": [
        "output_neurons_labels = [np.argmax(x) for x in output_neurons]"
      ]
    },
    {
      "cell_type": "markdown",
      "source": [
        "**Function to make confusion matrix**"
      ],
      "metadata": {
        "id": "Z9uMf-6HNiq8"
      }
    },
    {
      "cell_type": "code",
      "source": [
        "def confusionMatrix(y_test, output_neurons_labels):\n",
        "  confusionMatrix = tf.math.confusion_matrix(labels=y_test, predictions=output_neurons_labels)\n",
        "  plt.figure(figsize = (10,7))\n",
        "  sn.heatmap(confusionMatrix, annot=True, fmt='d')\n",
        "  plt.xlabel('Predicted')\n",
        "  plt.ylabel('Truth')"
      ],
      "metadata": {
        "id": "_CiGedUZGGZe"
      },
      "execution_count": 198,
      "outputs": []
    },
    {
      "cell_type": "code",
      "execution_count": 199,
      "metadata": {
        "colab": {
          "base_uri": "https://localhost:8080/",
          "height": 442
        },
        "id": "jfB_jdYk9Eyv",
        "outputId": "96ff3018-a9fe-41a3-b4c5-97e27720ec86"
      },
      "outputs": [
        {
          "output_type": "display_data",
          "data": {
            "text/plain": [
              "<Figure size 720x504 with 2 Axes>"
            ],
            "image/png": "[encoded data removed]"
          },
          "metadata": {
            "needs_background": "light"
          }
        }
      ],
      "source": [
        "confusionMatrix(y_test, output_neurons_labels)"
      ]
    },
    {
      "cell_type": "markdown",
      "source": [
        "**Neural Network with 4 hidden layers**"
      ],
      "metadata": {
        "id": "jv_JDlfFNnhU"
      }
    },
    {
      "cell_type": "code",
      "execution_count": 206,
      "metadata": {
        "colab": {
          "base_uri": "https://localhost:8080/"
        },
        "id": "n1RxEHMm_hpO",
        "outputId": "bd76911c-23ac-4110-d019-b60efe694e14"
      },
      "outputs": [
        {
          "output_type": "stream",
          "name": "stdout",
          "text": [
            "Epoch 1/10\n",
            "1875/1875 [==============================] - 8s 4ms/step - loss: 0.2201 - accuracy: 0.9351\n",
            "Epoch 2/10\n",
            "1875/1875 [==============================] - 7s 4ms/step - loss: 0.0972 - accuracy: 0.9713\n",
            "Epoch 3/10\n",
            "1875/1875 [==============================] - 6s 3ms/step - loss: 0.0678 - accuracy: 0.9794\n",
            "Epoch 4/10\n",
            "1875/1875 [==============================] - 6s 3ms/step - loss: 0.0559 - accuracy: 0.9828\n",
            "Epoch 5/10\n",
            "1875/1875 [==============================] - 7s 3ms/step - loss: 0.0441 - accuracy: 0.9868\n",
            "Epoch 6/10\n",
            "1875/1875 [==============================] - 7s 4ms/step - loss: 0.0371 - accuracy: 0.9883\n",
            "Epoch 7/10\n",
            "1875/1875 [==============================] - 6s 3ms/step - loss: 0.0308 - accuracy: 0.9907\n",
            "Epoch 8/10\n",
            "1875/1875 [==============================] - 7s 4ms/step - loss: 0.0276 - accuracy: 0.9920\n",
            "Epoch 9/10\n",
            "1875/1875 [==============================] - 7s 4ms/step - loss: 0.0259 - accuracy: 0.9920\n",
            "Epoch 10/10\n",
            "1875/1875 [==============================] - 7s 3ms/step - loss: 0.0222 - accuracy: 0.9938\n"
          ]
        },
        {
          "output_type": "execute_result",
          "data": {
            "text/plain": [
              "<keras.callbacks.History at 0x7f341acb4690>"
            ]
          },
          "metadata": {},
          "execution_count": 206
        }
      ],
      "source": [
        "no_output_neurons = 10 #since we have to classify between 0-9, we'll have 10 neurons on the output layer.\n",
        "\n",
        "#we have 4 hidden layers in this neural network,\n",
        "first_hiddenLayer = 512\n",
        "second_hiddenLayer = 256\n",
        "third_hiddenLayer = 128\n",
        "fourth_hiddenLayer = 16\n",
        "\n",
        "model = keras.Sequential([\n",
        "    keras.layers.Dense(first_hiddenLayer, input_shape=(784,), activation='relu'),\n",
        "    keras.layers.Dense(second_hiddenLayer, activation='relu'),\n",
        "    keras.layers.Dense(third_hiddenLayer, activation='relu'),\n",
        "    keras.layers.Dense(fourth_hiddenLayer, activation='relu'),\n",
        "    keras.layers.Dense(no_output_neurons, activation='sigmoid')\n",
        "])\n",
        "\n",
        "model.compile(optimizer='adam',\n",
        "              loss='sparse_categorical_crossentropy',\n",
        "              metrics=['accuracy'])\n",
        "iterations = 10\n",
        "model.fit(X_train_flattened, y_train, epochs=iterations)"
      ]
    },
    {
      "cell_type": "code",
      "execution_count": 207,
      "metadata": {
        "colab": {
          "base_uri": "https://localhost:8080/"
        },
        "id": "S7SzM4oGBdba",
        "outputId": "31178b64-e9c9-4bec-8b14-cf312d7d0fd0"
      },
      "outputs": [
        {
          "output_type": "stream",
          "name": "stdout",
          "text": [
            "313/313 [==============================] - 1s 2ms/step - loss: 0.0733 - accuracy: 0.9821\n"
          ]
        },
        {
          "output_type": "execute_result",
          "data": {
            "text/plain": [
              "[0.07329662889242172, 0.9821000099182129]"
            ]
          },
          "metadata": {},
          "execution_count": 207
        }
      ],
      "source": [
        "model.evaluate(X_test_flattened,y_test)"
      ]
    },
    {
      "cell_type": "markdown",
      "source": [
        "**Accuracy: 0.9821**"
      ],
      "metadata": {
        "id": "KPST70c6MmxS"
      }
    },
    {
      "cell_type": "code",
      "execution_count": 208,
      "metadata": {
        "id": "MsTJ8bnhBdbb"
      },
      "outputs": [],
      "source": [
        "output_neurons = model.predict(X_test_flattened)"
      ]
    },
    {
      "cell_type": "code",
      "execution_count": 218,
      "metadata": {
        "id": "6TzQQyZABdbc",
        "colab": {
          "base_uri": "https://localhost:8080/",
          "height": 362
        },
        "outputId": "d10ee124-2d1a-47f8-c4ac-80ec262a5edf"
      },
      "outputs": [
        {
          "output_type": "stream",
          "name": "stdout",
          "text": [
            "Please enter an index: 765\n",
            "Image at index 765 is shown below:\n"
          ]
        },
        {
          "output_type": "display_data",
          "data": {
            "text/plain": [
              "<Figure size 288x288 with 1 Axes>"
            ],
            "image/png": "[encoded data removed]"
          },
          "metadata": {
            "needs_background": "light"
          }
        },
        {
          "output_type": "stream",
          "name": "stdout",
          "text": [
            "\n",
            "\n",
            "Neural Network prediction: 4\n"
          ]
        }
      ],
      "source": [
        "a = int(input(\"Please enter an index: \"))\n",
        "result = classifier(a)\n",
        "print(\"\\n\\nNeural Network prediction:\", result)"
      ]
    },
    {
      "cell_type": "code",
      "execution_count": 210,
      "metadata": {
        "id": "hZXdvmtvBdbc"
      },
      "outputs": [],
      "source": [
        "output_neurons_labels = [np.argmax(x) for x in output_neurons]"
      ]
    },
    {
      "cell_type": "code",
      "execution_count": 211,
      "metadata": {
        "id": "vxAU8yTGBdbc",
        "colab": {
          "base_uri": "https://localhost:8080/",
          "height": 442
        },
        "outputId": "1c725c27-91f3-4ec2-c730-9e7df1014aa2"
      },
      "outputs": [
        {
          "output_type": "display_data",
          "data": {
            "text/plain": [
              "<Figure size 720x504 with 2 Axes>"
            ],
            "image/png": "[encoded data removed]"
          },
          "metadata": {
            "needs_background": "light"
          }
        }
      ],
      "source": [
        "confusionMatrix(y_test, output_neurons_labels)"
      ]
    }
  ],
  "metadata": {
    "colab": {
      "name": "Digit Classifier Using Neural Networks.ipynb",
      "provenance": []
    },
    "kernelspec": {
      "display_name": "Python 3",
      "name": "python3"
    },
    "language_info": {
      "name": "python"
    }
  },
  "nbformat": 4,
  "nbformat_minor": 0
}